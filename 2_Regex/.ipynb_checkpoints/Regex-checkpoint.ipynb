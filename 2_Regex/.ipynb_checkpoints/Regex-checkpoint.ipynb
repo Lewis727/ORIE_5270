{
 "cells": [
  {
   "cell_type": "markdown",
   "metadata": {},
   "source": [
    "## <font color='#B31B1B'> Regex </font>\n",
    "Regular expressions are patterns that match characters in strings (called regex for short). They are a mix of \"ordinary\" characters (like substrings you wish to match exactly) and \"special\" characters that allow for repetitions, combinations, and other interesting features.\n",
    "\n",
    "Regular expressions are supported by several languages and command-line tools. For example, the grep utility in UNIX allows you to probe files for patterns using regular expression syntax, the sed utility allows you to perform substitutions using regular expressions, and so on. Python has a library called re to create regular expressions as well. During this part of the course, we will be putting on our UNIX hat and working with command-line tools but feel free to use Python to practice them in your spare time."
   ]
  },
  {
   "cell_type": "markdown",
   "metadata": {},
   "source": [
    "#### <font color='#B31B1B'> Set-up and Basics </font>\n",
    "\n",
    "The most common use of regular expressions is filtering a collection of strings trying to find matches to a given pattern. Writing correct and unambiguous patterns is the essence of writing regular expressions.\n",
    "\n",
    "Consider the simplest task of filtering through a set of strings, returning all those that contain the sequence \"vasilis\". For example:"
   ]
  },
  {
   "cell_type": "code",
   "execution_count": 1,
   "metadata": {},
   "outputs": [
    {
     "name": "stdout",
     "output_type": "stream",
     "text": [
      "My name is connor and I like to write code.\n",
      "My name is also Connor but I don't like to write code.\n",
      "I spoke to Vasilis and he told me about Python.\n",
      "I spoke to vasilid and he taught me about regular expressions.\n",
      "asdfasdfasdfasdfvasilisasdfasdf.\n"
     ]
    }
   ],
   "source": [
    "%%bash\n",
    "cat examples/example.txt"
   ]
  },
  {
   "cell_type": "markdown",
   "metadata": {},
   "source": [
    "This file contains a collection of sentences (one per line), and we wish to output each line that contains the sequence \"connor\". To do so, we can write a simple grep command as follows:"
   ]
  },
  {
   "cell_type": "code",
   "execution_count": 4,
   "metadata": {},
   "outputs": [
    {
     "name": "stdout",
     "output_type": "stream",
     "text": [
      "My name is connor and I like to write code.\n",
      "asdfasdfasdfasdfconnorasdfasdf.\n"
     ]
    }
   ],
   "source": [
    "%%bash\n",
    "egrep \"connor\" examples/example.txt"
   ]
  },
  {
   "cell_type": "markdown",
   "metadata": {},
   "source": [
    "**Why is this result a little unsatisfying?**"
   ]
  },
  {
   "cell_type": "markdown",
   "metadata": {},
   "source": [
    "The `grep` utility works as follows: it treats the first argument is the pattern and the second argument is typically the input file. It applies the pattern to each line in the file, and prints all the lines that match. Note that patterns are case-sensitive; for example, we ignored the second line that contains the word \"Connor\" because the leading \"c\" should be lower case to match the pattern. It is good practice to enclose the pattern in double-quotes when using `grep` in a script.\n",
    "\n",
    "**Note:** We are using egrep here for reasons that will be clarified later; namely, to make sure that meta-characters are treated as expected."
   ]
  },
  {
   "cell_type": "markdown",
   "metadata": {},
   "source": [
    "#### <font color='#B31B1B'> Character Ranges </font>\n",
    "\n",
    "To circumvent the above problem (only match \"connor\" but not \"Connor\") we introduce a fundamental construct: character ranges. If there is a part of your pattern where more than one characters match, you can enclose the set of letters in square brackets:"
   ]
  },
  {
   "cell_type": "code",
   "execution_count": 6,
   "metadata": {},
   "outputs": [
    {
     "name": "stdout",
     "output_type": "stream",
     "text": [
      "My name is connor and I like to write code.\n",
      "My name is also Connor but I don't like to write code.\n",
      "asdfasdfasdfasdfconnorasdfasdf.\n"
     ]
    }
   ],
   "source": [
    "%%bash\n",
    "egrep \"[Cc]onnor\" examples/example.txt"
   ]
  },
  {
   "cell_type": "markdown",
   "metadata": {},
   "source": [
    "When using a character range, there are some tricks to simplify the resulting pattern. For example, if you want to match any number between 0 and 9, you can write `[0123456789`] or `[0-9]` - the two are equivalent. The same is true for `[abcdeghijklmnopqrstuvwxyz]` and `[a-z]`. If you want to be case-insensitive, you can also mix the two: `[a-zA-Z]` will match any letter between \"a\" and \"z\" as well as their capital versions.\n",
    "\n",
    "What's going on here?"
   ]
  },
  {
   "cell_type": "code",
   "execution_count": 8,
   "metadata": {},
   "outputs": [
    {
     "name": "stdout",
     "output_type": "stream",
     "text": [
      "My name is connor and I like to write code.\n",
      "My name is also Connor but I don't like to write code.\n",
      "I spoke to Vasilis and he told me about Python.\n",
      "I spoke to vasilid and he taught me about regular expressions.\n",
      "asdfasdfasdfasdfconnorasdfasdf.\n"
     ]
    }
   ],
   "source": [
    "%%bash\n",
    "egrep \"[CcONnNnOoRr]\" examples/example.txt"
   ]
  },
  {
   "cell_type": "markdown",
   "metadata": {},
   "source": [
    "What if we want to exclude a set of characters from our pattern? In this case we can use the caret (^) inside the square brackets. For example:"
   ]
  },
  {
   "cell_type": "code",
   "execution_count": 10,
   "metadata": {},
   "outputs": [
    {
     "name": "stdout",
     "output_type": "stream",
     "text": [
      "I spoke to connol and he taught me about regular expressions.\n"
     ]
    }
   ],
   "source": [
    "%%bash\n",
    "egrep \"conno[^r]\" examples/example.txt"
   ]
  },
  {
   "cell_type": "markdown",
   "metadata": {},
   "source": [
    "Here, we match all strings containing a set of characters \"conno\" immediately followed by any character other than \"r\". If there are more than one characters you wish to avoid, you can add them inside the same block following the caret."
   ]
  },
  {
   "cell_type": "code",
   "execution_count": 15,
   "metadata": {},
   "outputs": [
    {
     "name": "stdout",
     "output_type": "stream",
     "text": [
      "My name is connor and I like to write code.\n",
      "asdfasdfasdfasdfconnorasdfasdf.\n"
     ]
    }
   ],
   "source": [
    "%%bash\n",
    "grep \"conno[^lmnop]\" examples/example.txt"
   ]
  },
  {
   "cell_type": "markdown",
   "metadata": {},
   "source": [
    "#### <font color='#B31B1B'> Metacharacters </font>\n",
    "\n",
    "In the above, the brackets as well as the caret are so-called metacharacters, i.e., characters that take on special function and meaning inside regexes. If we want to match the meta-character itself, we typically add a backslash in front of it (something referred to as \"escaping\" the character). Note the difference between the following two:"
   ]
  },
  {
   "cell_type": "code",
   "execution_count": 35,
   "metadata": {},
   "outputs": [
    {
     "name": "stdout",
     "output_type": "stream",
     "text": [
      "\n"
     ]
    }
   ],
   "source": [
    "%%bash\n",
    "echo $(egrep \"\\[connor\\]\" examples/example.txt) #ignore echo - its to avoid that annoying CalledProcessError"
   ]
  },
  {
   "cell_type": "code",
   "execution_count": 28,
   "metadata": {},
   "outputs": [
    {
     "name": "stdout",
     "output_type": "stream",
     "text": [
      "My name is connor and I like to write code.\n",
      "My name is also Connor but I don't like to write code.\n",
      "I spoke to Vasilis and he told me about Python.\n",
      "I spoke to connol and he taught me about regular expressions.\n",
      "asdfasdfasdfasdfconnorasdfasdf.\n"
     ]
    }
   ],
   "source": [
    "%%bash\n",
    "egrep \"[connor]\" examples/example.txt"
   ]
  },
  {
   "cell_type": "markdown",
   "metadata": {},
   "source": [
    "In the first example, we escape `[` and `]` in order to indicate that we want to treat them as ordinary characters and match the substring `\"[vasilis]\"`. In the second example, we are not escaping them and instead end up with a character range that will match any character from the set `{a,i,l,s,v}`."
   ]
  },
  {
   "cell_type": "markdown",
   "metadata": {},
   "source": [
    "**Note:** forgetting to escape a metacharacter is one of the most common mistakes for firstcomers in regular expressions. Make sure you remember the ones you learn!\n",
    "\n",
    "Here is another metacharacter: the so-called **Kleene star** (*). The star operator indicates that the preceding character can be \"matched\" as many ($\\geq 0$) times as necessary. Consider, for example, trying to match all strings of the form \"hello\", \"helllo\", \"hellllo\" etc. Here, the words we are looking for start with \"he\", followed by at least 2 \"l\" characters and the character \"o\" last. The following will work fine:"
   ]
  },
  {
   "cell_type": "code",
   "execution_count": 36,
   "metadata": {},
   "outputs": [
    {
     "name": "stdout",
     "output_type": "stream",
     "text": [
      "hello\n",
      "helllo\n",
      "hellllo\n",
      "helo"
     ]
    }
   ],
   "source": [
    "%%bash\n",
    "cat examples/example_star.txt"
   ]
  },
  {
   "cell_type": "code",
   "execution_count": 43,
   "metadata": {},
   "outputs": [
    {
     "name": "stdout",
     "output_type": "stream",
     "text": [
      "heo\n",
      "hello\n",
      "helllo\n",
      "hellllo\n",
      "helo\n"
     ]
    }
   ],
   "source": [
    "%%bash\n",
    "egrep \"hel*o\" examples/example_star.txt"
   ]
  },
  {
   "cell_type": "markdown",
   "metadata": {},
   "source": [
    "Here, we are telling grep to match any strings containing \"hell\" followed by any number of occurences of \"l\", followed by \"o\". A similar operator to the Kleene star is the Kleene plus (+), which matches at least one occurence of the preceding operator (recall that * can match as few as zero of them). For example:"
   ]
  },
  {
   "cell_type": "code",
   "execution_count": 41,
   "metadata": {},
   "outputs": [
    {
     "name": "stdout",
     "output_type": "stream",
     "text": [
      "hello\n",
      "helllo\n",
      "hellllo\n",
      "helo\n"
     ]
    }
   ],
   "source": [
    "%%bash\n",
    "egrep \"hel+o\" examples/example_star.txt"
   ]
  },
  {
   "cell_type": "markdown",
   "metadata": {},
   "source": [
    "Another useful construct is specifying the number of occurences explicitly. The general syntax for that is `<character>{lower_bound,upper_bound}`. For example:"
   ]
  },
  {
   "cell_type": "code",
   "execution_count": 44,
   "metadata": {},
   "outputs": [
    {
     "name": "stdout",
     "output_type": "stream",
     "text": [
      "hello\n",
      "helllo\n"
     ]
    }
   ],
   "source": [
    "%%bash\n",
    "egrep \"hel{2,3}o\" examples/example_star.txt"
   ]
  },
  {
   "cell_type": "markdown",
   "metadata": {},
   "source": [
    "The above matched all strings starting with \"he\" followed by between 2 and 3 \"l\"'s, followed by \"o\". You can also omit the upper or lower bound:"
   ]
  },
  {
   "cell_type": "code",
   "execution_count": 45,
   "metadata": {},
   "outputs": [
    {
     "name": "stdout",
     "output_type": "stream",
     "text": [
      "hello\n",
      "helllo\n",
      "hellllo\n"
     ]
    }
   ],
   "source": [
    "%%bash\n",
    "egrep \"hel{2,}o\" examples/example_star.txt"
   ]
  },
  {
   "cell_type": "markdown",
   "metadata": {},
   "source": [
    "We can also specify an 'optional' character using `?` - it's the equivalent of using `{0,1}`!"
   ]
  },
  {
   "cell_type": "code",
   "execution_count": 46,
   "metadata": {},
   "outputs": [
    {
     "name": "stdout",
     "output_type": "stream",
     "text": [
      "heo\n",
      "helo\n"
     ]
    }
   ],
   "source": [
    "%%bash\n",
    "egrep \"hel?o\" examples/example_star.txt"
   ]
  },
  {
   "cell_type": "markdown",
   "metadata": {},
   "source": [
    "#### <font color='#B31B1B'> Quick knowledge check! </font>\n",
    "Fill in the regex here to match US style phone numbers (i.e. `XXX-XXXXXXX`), can you adapt it to have optional spaces between the 3 and 4 letters sections of the latter half and a space instead of a dash? "
   ]
  },
  {
   "cell_type": "code",
   "execution_count": 47,
   "metadata": {},
   "outputs": [
    {
     "name": "stdout",
     "output_type": "stream",
     "text": [
      "123-4567890\n",
      "234-2319487\n",
      "12312341123213\n",
      "234\n",
      "123-\n",
      "904-3280983\n",
      "123-4567 890\n",
      "432 4328 293\n",
      "\n"
     ]
    }
   ],
   "source": [
    "%%bash\n",
    "cat examples/phone_numbers.txt"
   ]
  },
  {
   "cell_type": "code",
   "execution_count": 58,
   "metadata": {},
   "outputs": [],
   "source": [
    "%%bash\n",
    "#Your code here\n"
   ]
  },
  {
   "cell_type": "markdown",
   "metadata": {},
   "source": [
    "#### <font color='#B31B1B'> Conditional Matching </font>\n",
    "This is another useful construct: suppose you are parsing a file containing paths to other files and want to list all image files that end in `.jpeg` or `.png`. Naively, you can write a regular expression that matches all `\".jpeg\"` substrings, another that matches all `\".png\"` substrings, and appends the output to a file:"
   ]
  },
  {
   "cell_type": "code",
   "execution_count": 67,
   "metadata": {},
   "outputs": [
    {
     "name": "stdout",
     "output_type": "stream",
     "text": [
      "my_pic.jpg\n",
      "pic2.jpg\n",
      "beautiful_image.png\n",
      "shot_by_iphone.png\n",
      "not_an_image.txt"
     ]
    }
   ],
   "source": [
    "%%bash\n",
    "cat examples/paths.txt"
   ]
  },
  {
   "cell_type": "code",
   "execution_count": 77,
   "metadata": {},
   "outputs": [
    {
     "name": "stdout",
     "output_type": "stream",
     "text": [
      "my_pic.jpeg\n",
      "pic2.jpeg\n",
      "beautiful_image.png\n",
      "shot_by_iphone.png\n"
     ]
    }
   ],
   "source": [
    "%%bash\n",
    "egrep \"\\.jpeg\" examples/paths.txt >>outputs/output.txt\n",
    "egrep \"\\.png\" examples/paths.txt  >>outputs/output.txt\n",
    "cat outputs/output.txt"
   ]
  },
  {
   "cell_type": "markdown",
   "metadata": {},
   "source": [
    "A slightly more elegant solution is to use a conditional match!"
   ]
  },
  {
   "cell_type": "code",
   "execution_count": 79,
   "metadata": {},
   "outputs": [
    {
     "name": "stdout",
     "output_type": "stream",
     "text": [
      "my_pic.jpeg\n",
      "pic2.jpeg\n",
      "beautiful_image.png\n",
      "shot_by_iphone.png\n"
     ]
    }
   ],
   "source": [
    "%%bash\n",
    "egrep \"\\.(jpeg|png)\" examples/paths.txt > outputs/output.txt\n",
    "cat outputs/output.txt"
   ]
  },
  {
   "cell_type": "markdown",
   "metadata": {},
   "source": [
    "#### <font color='#B31B1B'> Handy (and fun!) tools for Regex </font>\n",
    "To get some practice with regex, <a href='https://regexcrossword.com/'>Regex Crossword</a> is a fun site. <a href='https://regex101.com/'> Regex 101 </a> is also a great tool for debugging regex expressions. Here's a <a href='https://docs.trifacta.com/display/DP/Supported+Special+Regular+Expression+Characters'> handy</a> list of special characters that can make your regex more compact as well."
   ]
  }
 ],
 "metadata": {
  "kernelspec": {
   "display_name": "Python 3",
   "language": "python",
   "name": "python3"
  },
  "language_info": {
   "codemirror_mode": {
    "name": "ipython",
    "version": 3
   },
   "file_extension": ".py",
   "mimetype": "text/x-python",
   "name": "python",
   "nbconvert_exporter": "python",
   "pygments_lexer": "ipython3",
   "version": "3.8.3"
  }
 },
 "nbformat": 4,
 "nbformat_minor": 4
}
