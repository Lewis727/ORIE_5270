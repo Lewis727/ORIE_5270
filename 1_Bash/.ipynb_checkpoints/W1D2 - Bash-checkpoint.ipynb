{
 "cells": [
  {
   "cell_type": "markdown",
   "metadata": {},
   "source": [
    "## <font color='#B31B1B'> Bash Crash Course </font>\n",
    "\n",
    "What is the shell? The shell is a program that exposes an OS's services to a user (or another program). Contrary to popular belief, what we call the shell is not the same as what is called the terminal. However, in Linux the main way to interact with the shell is via the terminal, which provides a command-line interface (meaning: not graphical) to the shell, which is why we will sometimes use the words \"shell\" and \"terminal\" interchangeably.\n",
    "\n",
    "There are serveral different shells available in Linux. Most distributions come with the `bash` shell. Other shells include `zsh`, `fish`, `tcsh`, `csh`."
   ]
  },
  {
   "cell_type": "markdown",
   "metadata": {},
   "source": [
    "### <font color='#B31B1B'> Getting started </font>\n",
    "To get started, fire up your distribution's terminal. Depending on your distribution, it might be called \"Terminal\", \"Console\" or some variant thereof. This will start a command-line interface (CLI) where you will be able to type commands and see their output. You should see something like the following (called the prompt):\n",
    "\n",
    "`[user@computer ~]$`\n",
    "\n",
    "What does this mean? The shell keeps track of which user is currently logged and displays their login name (user). It also displays the name of the computer they are logged in to. The last piece of information is the working directory, which is the current location in your computer's filesystem. Here ~ is a special character that denotes your home directory (assuming one is defined; more on this later). Finally, anything on the left of the $ are commands that you type.\n",
    "\n",
    "For example, my prompt looks like the one below:\n",
    "\n",
    "`connorlawless@dhcp-vl2041-29361 ~ $`\n"
   ]
  },
  {
   "cell_type": "markdown",
   "metadata": {},
   "source": [
    "### <font color='#B31B1B'> Getting Help </font>\n",
    "Shell commands usually provide a manual page and/or can be invoked with the --help that documents their behavior and arguments, return values etc. To access the manual page, type man <command>. For example, the following:"
   ]
  },
  {
   "cell_type": "code",
   "execution_count": 5,
   "metadata": {},
   "outputs": [
    {
     "name": "stdout",
     "output_type": "stream",
     "text": [
      "\n",
      "BUILTIN(1)                BSD General Commands Manual               BUILTIN(1)\n",
      "\n",
      "N\bNA\bAM\bME\bE\n",
      "     b\bbu\bui\bil\blt\bti\bin\bn, !\b!, %\b%, .\b., :\b:, @\b@, {\b{, }\b}, a\bal\bli\bia\bas\bs, a\bal\bll\blo\boc\bc, b\bbg\bg, b\bbi\bin\bnd\bd, b\bbi\bin\bnd\bdk\bke\bey\by, b\bbr\bre\bea\bak\bk,\n",
      "     b\bbr\bre\bea\bak\bks\bsw\bw, b\bbu\bui\bil\blt\bti\bin\bns\bs, c\bca\bas\bse\be, c\bcd\bd, c\bch\bhd\bdi\bir\br, c\bco\bom\bmm\bma\ban\bnd\bd, c\bco\bom\bmp\bpl\ble\bet\bte\be, c\bco\bon\bnt\bti\bin\bnu\bue\be, d\bde\bef\bfa\bau\bul\blt\bt,\n",
      "     d\bdi\bir\brs\bs, d\bdo\bo, d\bdo\bon\bne\be, e\bec\bch\bho\bo, e\bec\bch\bho\bot\btc\bc, e\bel\bli\bif\bf, e\bel\bls\bse\be, e\ben\bnd\bd, e\ben\bnd\bdi\bif\bf, e\ben\bnd\bds\bsw\bw, e\bes\bsa\bac\bc, e\bev\bva\bal\bl,\n",
      "     e\bex\bxe\bec\bc, e\bex\bxi\bit\bt, e\bex\bxp\bpo\bor\brt\bt, f\bfa\bal\bls\bse\be, f\bfc\bc, f\bfg\bg, f\bfi\bil\ble\bet\bte\bes\bst\bt, f\bfi\bi, f\bfo\bor\br, f\bfo\bor\bre\bea\bac\bch\bh, g\bge\bet\bto\bop\bpt\bts\bs,\n",
      "     g\bgl\blo\bob\bb, g\bgo\bot\bto\bo, h\bha\bas\bsh\bh, h\bha\bas\bsh\bhs\bst\bta\bat\bt, h\bhi\bis\bst\bto\bor\bry\by, h\bhu\bup\bp, i\bif\bf, j\bjo\bob\bbi\bid\bd, j\bjo\bob\bbs\bs, k\bki\bil\bll\bl, l\bli\bim\bmi\bit\bt,\n",
      "     l\blo\boc\bca\bal\bl, l\blo\bog\bg, l\blo\bog\bgi\bin\bn, l\blo\bog\bgo\bou\but\bt, l\bls\bs-\b-F\bF, n\bni\bic\bce\be, n\bno\boh\bhu\bup\bp, n\bno\bot\bti\bif\bfy\by, o\bon\bni\bin\bnt\btr\br, p\bpo\bop\bpd\bd,\n",
      "     p\bpr\bri\bin\bnt\bte\ben\bnv\bv, p\bpu\bus\bsh\bhd\bd, p\bpw\bwd\bd, r\bre\bea\bad\bd, r\bre\bea\bad\bdo\bon\bnl\bly\by, r\bre\beh\bha\bas\bsh\bh, r\bre\bep\bpe\bea\bat\bt, r\bre\bet\btu\bur\brn\bn, s\bsc\bch\bhe\bed\bd, s\bse\bet\bt,\n",
      "     s\bse\bet\bte\ben\bnv\bv, s\bse\bet\btt\btc\bc, s\bse\bet\btt\bty\by, s\bse\bet\btv\bva\bar\br, s\bsh\bhi\bif\bft\bt, s\bso\bou\bur\brc\bce\be, s\bst\bto\bop\bp, s\bsu\bus\bsp\bpe\ben\bnd\bd, s\bsw\bwi\bit\btc\bch\bh,\n",
      "     t\bte\bel\bll\blt\btc\bc, t\bte\bes\bst\bt, t\bth\bhe\ben\bn, t\bti\bim\bme\be, t\bti\bim\bme\bes\bs, t\btr\bra\bap\bp, t\btr\bru\bue\be, t\bty\byp\bpe\be, u\bul\bli\bim\bmi\bit\bt, u\bum\bma\bas\bsk\bk,\n",
      "     u\bun\bna\bal\bli\bia\bas\bs, u\bun\bnc\bco\bom\bmp\bpl\ble\bet\bte\be, u\bun\bnh\bha\bas\bsh\bh, u\bun\bnl\bli\bim\bmi\bit\bt, u\bun\bns\bse\bet\bt, u\bun\bns\bse\bet\bte\ben\bnv\bv, u\bun\bnt\bti\bil\bl, w\bwa\bai\bit\bt,\n",
      "     w\bwh\bhe\ber\bre\be, w\bwh\bhi\bic\bch\bh, w\bwh\bhi\bil\ble\be -- shell built-in commands\n",
      "\n",
      "S\bSY\bYN\bNO\bOP\bPS\bSI\bIS\bS\n",
      "     b\bbu\bui\bil\blt\bti\bin\bn [-\b-o\bop\bpt\bti\bio\bon\bns\bs] [_\ba_\br_\bg_\bs _\b._\b._\b.]\n",
      "\n",
      "D\bDE\bES\bSC\bCR\bRI\bIP\bPT\bTI\bIO\bON\bN\n",
      "     Shell builtin commands are commands that can be executed within the run-\n",
      "     ning shell's process.  Note that, in the case of csh(1) builtin commands,\n",
      "     the command is executed in a subshell if it occurs as any component of a\n",
      "     pipeline except the last.\n",
      "\n",
      "     If a command specified to the shell contains a slash ``/'', the shell\n",
      "     will not execute a builtin command, even if the last component of the\n",
      "     specified command matches the name of a builtin command.  Thus, while\n",
      "     specifying ``e\bec\bch\bho\bo'' causes a builtin command to be executed under shells\n",
      "     that support the e\bec\bch\bho\bo builtin command, specifying ``/\b/b\bbi\bin\bn/\b/e\bec\bch\bho\bo'' or\n",
      "     ``.\b./\b/e\bec\bch\bho\bo'' does not.\n",
      "\n",
      "     While some builtin commands may exist in more than one shell, their oper-\n",
      "     ation may be different under each shell which supports them.  Below is a\n",
      "     table which lists shell builtin commands, the standard shells that sup-\n",
      "     port them and whether they exist as standalone utilities.\n",
      "\n",
      "     Only builtin commands for the csh(1) and sh(1) shells are listed here.\n",
      "     Consult a shell's manual page for details on the operation of its builtin\n",
      "     commands.  Beware that the sh(1) manual page, at least, calls some of\n",
      "     these commands ``built-in commands'' and some of them ``reserved words''.\n",
      "     Users of other shells may need to consult an info(1) page or other\n",
      "     sources of documentation.\n",
      "\n",
      "     Commands marked ``No**'' under _\bE_\bx_\bt_\be_\br_\bn_\ba_\bl do exist externally, but are\n",
      "     implemented as scripts using a builtin command of the same name.\n",
      "\n",
      "           _\bC_\bo_\bm_\bm_\ba_\bn_\bd       _\bE_\bx_\bt_\be_\br_\bn_\ba_\bl    csh(1)    sh(1)\n",
      "           !             No          No        Yes\n",
      "           %\b%             No          Yes       No\n",
      "           .             No          No        Yes\n",
      "           :             No          Yes       Yes\n",
      "           @\b@             No          Yes       Yes\n",
      "           {\b{             No          No        Yes\n",
      "           }\b}             No          No        Yes\n",
      "           a\bal\bli\bia\bas\bs         No**        Yes       Yes\n",
      "           a\bal\bll\blo\boc\bc         No          Yes       No\n",
      "           b\bbg\bg            No**        Yes       Yes\n",
      "           b\bbi\bin\bnd\bd          No          No        Yes\n",
      "           b\bbi\bin\bnd\bdk\bke\bey\by       No          Yes       No\n",
      "           b\bbr\bre\bea\bak\bk         No          Yes       Yes\n",
      "           b\bbr\bre\bea\bak\bks\bsw\bw       No          Yes       No\n",
      "           b\bbu\bui\bil\blt\bti\bin\bn       No          No        Yes\n",
      "           b\bbu\bui\bil\blt\bti\bin\bns\bs      No          Yes       No\n",
      "           c\bca\bas\bse\be          No          Yes       Yes\n",
      "           c\bcd\bd            No**        Yes       Yes\n",
      "           c\bch\bhd\bdi\bir\br         No          Yes       Yes\n",
      "           c\bco\bom\bmm\bma\ban\bnd\bd       No**        No        Yes\n",
      "           c\bco\bom\bmp\bpl\ble\bet\bte\be      No          Yes       No\n",
      "           c\bco\bon\bnt\bti\bin\bnu\bue\be      No          Yes       Yes\n",
      "           d\bde\bef\bfa\bau\bul\blt\bt       No          Yes       No\n",
      "           d\bdi\bir\brs\bs          No          Yes       No\n",
      "           d\bdo\bo            No          No        Yes\n",
      "           d\bdo\bon\bne\be          No          No        Yes\n",
      "           e\bec\bch\bho\bo          Yes         Yes       Yes\n",
      "           e\bec\bch\bho\bot\btc\bc        No          Yes       No\n",
      "           e\bel\bli\bif\bf          No          No        Yes\n",
      "           e\bel\bls\bse\be          No          Yes       Yes\n",
      "           e\ben\bnd\bd           No          Yes       No\n",
      "           e\ben\bnd\bdi\bif\bf         No          Yes       No\n",
      "           e\ben\bnd\bds\bsw\bw         No          Yes       No\n",
      "           e\bes\bsa\bac\bc          No          No        Yes\n",
      "           e\bev\bva\bal\bl          No          Yes       Yes\n",
      "           e\bex\bxe\bec\bc          No          Yes       Yes\n",
      "           e\bex\bxi\bit\bt          No          Yes       Yes\n",
      "           e\bex\bxp\bpo\bor\brt\bt        No          No        Yes\n",
      "           f\bfa\bal\bls\bse\be         Yes         No        Yes\n",
      "           f\bfc\bc            No**        No        Yes\n",
      "           f\bfg\bg            No**        Yes       Yes\n",
      "           f\bfi\bil\ble\bet\bte\bes\bst\bt      No          Yes       No\n",
      "           f\bfi\bi            No          No        Yes\n",
      "           f\bfo\bor\br           No          No        Yes\n",
      "           f\bfo\bor\bre\bea\bac\bch\bh       No          Yes       No\n",
      "           g\bge\bet\bto\bop\bpt\bts\bs       No**        No        Yes\n",
      "           g\bgl\blo\bob\bb          No          Yes       No\n",
      "           g\bgo\bot\bto\bo          No          Yes       No\n",
      "           h\bha\bas\bsh\bh          No          No        Yes\n",
      "           h\bha\bas\bsh\bhs\bst\bta\bat\bt      No          Yes       No\n",
      "           h\bhi\bis\bst\bto\bor\bry\by       No          Yes       No\n",
      "           h\bhu\bup\bp           No          Yes       No\n",
      "           i\bif\bf            No          Yes       Yes\n",
      "           j\bjo\bob\bbi\bid\bd         No          No        Yes\n",
      "           j\bjo\bob\bbs\bs          No**        Yes       Yes\n",
      "           k\bki\bil\bll\bl          Yes         Yes       No\n",
      "           l\bli\bim\bmi\bit\bt         No          Yes       No\n",
      "           l\blo\boc\bca\bal\bl         No          No        Yes\n",
      "           l\blo\bog\bg           No          Yes       No\n",
      "           l\blo\bog\bgi\bin\bn         Yes         Yes       No\n",
      "           l\blo\bog\bgo\bou\but\bt        No          Yes       No\n",
      "           l\bls\bs-\b-F\bF          No          Yes       No\n",
      "           n\bni\bic\bce\be          Yes         Yes       No\n",
      "           n\bno\boh\bhu\bup\bp         Yes         Yes       No\n",
      "           n\bno\bot\bti\bif\bfy\by        No          Yes       No\n",
      "           o\bon\bni\bin\bnt\btr\br        No          Yes       No\n",
      "           p\bpo\bop\bpd\bd          No          Yes       No\n",
      "           p\bpr\bri\bin\bnt\bte\ben\bnv\bv      Yes         Yes       No\n",
      "           p\bpu\bus\bsh\bhd\bd         No          Yes       No\n",
      "           p\bpw\bwd\bd           Yes         No        Yes\n",
      "           r\bre\bea\bad\bd          No**        No        Yes\n",
      "           r\bre\bea\bad\bdo\bon\bnl\bly\by      No          No        Yes\n",
      "           r\bre\beh\bha\bas\bsh\bh        No          Yes       No\n",
      "           r\bre\bep\bpe\bea\bat\bt        No          Yes       No\n",
      "           r\bre\bet\btu\bur\brn\bn        No          No        Yes\n",
      "           s\bsc\bch\bhe\bed\bd         No          Yes       No\n",
      "           s\bse\bet\bt           No          Yes       Yes\n",
      "           s\bse\bet\bte\ben\bnv\bv        No          Yes       No\n",
      "           s\bse\bet\btt\btc\bc         No          Yes       No\n",
      "           s\bse\bet\btt\bty\by         No          Yes       No\n",
      "           s\bse\bet\btv\bva\bar\br        No          No        Yes\n",
      "           s\bsh\bhi\bif\bft\bt         No          Yes       Yes\n",
      "           s\bso\bou\bur\brc\bce\be        No          Yes       No\n",
      "           s\bst\bto\bop\bp          No          Yes       No\n",
      "           s\bsu\bus\bsp\bpe\ben\bnd\bd       No          Yes       No\n",
      "           s\bsw\bwi\bit\btc\bch\bh        No          Yes       No\n",
      "           t\bte\bel\bll\blt\btc\bc        No          Yes       No\n",
      "           t\bte\bes\bst\bt          Yes         No        Yes\n",
      "           t\bth\bhe\ben\bn          No          No        Yes\n",
      "           t\bti\bim\bme\be          Yes         Yes       No\n",
      "           t\bti\bim\bme\bes\bs         No          No        Yes\n",
      "           t\btr\bra\bap\bp          No          No        Yes\n",
      "           t\btr\bru\bue\be          Yes         No        Yes\n",
      "           t\bty\byp\bpe\be          No          No        Yes\n",
      "           u\bul\bli\bim\bmi\bit\bt        No          No        Yes\n",
      "           u\bum\bma\bas\bsk\bk         No**        Yes       Yes\n",
      "           u\bun\bna\bal\bli\bia\bas\bs       No**        Yes       Yes\n",
      "           u\bun\bnc\bco\bom\bmp\bpl\ble\bet\bte\be    No          Yes       No\n",
      "           u\bun\bnh\bha\bas\bsh\bh        No          Yes       No\n",
      "           u\bun\bnl\bli\bim\bmi\bit\bt       No          Yes       No\n",
      "           u\bun\bns\bse\bet\bt         No          Yes       Yes\n",
      "           u\bun\bns\bse\bet\bte\ben\bnv\bv      No          Yes       No\n",
      "           u\bun\bnt\bti\bil\bl         No          No        Yes\n",
      "           w\bwa\bai\bit\bt          No**        Yes       Yes\n",
      "           w\bwh\bhe\ber\bre\be         No          Yes       No\n",
      "           w\bwh\bhi\bic\bch\bh         Yes         Yes       No\n",
      "           w\bwh\bhi\bil\ble\be         No          Yes       Yes\n",
      "\n",
      "S\bSE\bEE\bE A\bAL\bLS\bSO\bO\n",
      "     csh(1), dash(1), echo(1), false(1), info(1), kill(1), login(1), nice(1),\n",
      "     nohup(1), printenv(1), pwd(1), sh(1), test(1), time(1), true(1),\n",
      "     which(1), zsh(1)\n",
      "\n",
      "H\bHI\bIS\bST\bTO\bOR\bRY\bY\n",
      "     The b\bbu\bui\bil\blt\bti\bin\bn manual page first appeared in FreeBSD 3.4.\n",
      "\n",
      "A\bAU\bUT\bTH\bHO\bOR\bRS\bS\n",
      "     This manual page was written by Sheldon Hearn <sheldonh@FreeBSD.org>.\n",
      "\n",
      "BSD                            February 23, 2005                           BSD\n"
     ]
    }
   ],
   "source": [
    "%%bash\n",
    "man cd"
   ]
  },
  {
   "cell_type": "markdown",
   "metadata": {},
   "source": [
    "Knowing about the existence of and using these manual pages is essential for working in the shell. Most newcomers forget that they even exist, and spend precious time googling for documentation (even though several manual pages also provide usage examples) that is already available.\n",
    "\n",
    "Note: To use the man command, you need to know which command you are looking for help with. If you have a general idea of what you want to do but do not know which command to use for it, you can use the apropos utility, which will search inside the manual pages for a keyword (and also supports regular expressions; more on these later). For example, if you want to find out which command to use to make a directory, you can type the following:"
   ]
  },
  {
   "cell_type": "code",
   "execution_count": 6,
   "metadata": {},
   "outputs": [
    {
     "name": "stdout",
     "output_type": "stream",
     "text": [
      "mkdir(1)                 - make directories\n",
      "mkdir(1)                 - make directories\n"
     ]
    },
    {
     "name": "stderr",
     "output_type": "stream",
     "text": [
      "makewhatis: /Library/TeX/texbin/man: Not a directory\n"
     ]
    }
   ],
   "source": [
    "%%bash\n",
    "apropos \"make directories\""
   ]
  },
  {
   "cell_type": "markdown",
   "metadata": {},
   "source": [
    "Indeed, man mkdir will convince you that mkdir is what you want to use to make directories. Another help utility you might occasionally need is type:"
   ]
  },
  {
   "cell_type": "code",
   "execution_count": 8,
   "metadata": {},
   "outputs": [
    {
     "name": "stdout",
     "output_type": "stream",
     "text": [
      "python is /Users/connorlawless/opt/anaconda3/envs/CourseSchedule/bin/python\n",
      "cd is a shell builtin\n"
     ]
    }
   ],
   "source": [
    "%%bash\n",
    "type python\n",
    "type cd"
   ]
  },
  {
   "cell_type": "markdown",
   "metadata": {},
   "source": [
    "### <font color='#B31B1B'> Navigation </font>\n",
    "\n",
    "The shell is not very useful without knowing how to move around between different directories. The cd command does exactly that. For example, to change to a directory called \"Documents\", we type:\n"
   ]
  },
  {
   "cell_type": "code",
   "execution_count": 12,
   "metadata": {},
   "outputs": [
    {
     "name": "stdout",
     "output_type": "stream",
     "text": [
      "/Users/connorlawless/Documents\n"
     ]
    }
   ],
   "source": [
    "%%bash\n",
    "cd ~/Documents\n",
    "pwd"
   ]
  },
  {
   "cell_type": "markdown",
   "metadata": {},
   "source": [
    "Since you will eventually build a mental map of where your files are starting from your home directory, typing cd on the shell (without any arguments) will return you to your home directory:"
   ]
  },
  {
   "cell_type": "code",
   "execution_count": 15,
   "metadata": {},
   "outputs": [
    {
     "name": "stdout",
     "output_type": "stream",
     "text": [
      "/Users/connorlawless\n"
     ]
    }
   ],
   "source": [
    "%%bash\n",
    "cd ~\n",
    "pwd"
   ]
  },
  {
   "cell_type": "markdown",
   "metadata": {},
   "source": [
    "**Note**: When executing bash within jupyter notebook, each cell is executed in its own temporary sub-shell, so changing the working directory in one cell won't have it persist to other cells (check out the %cd magic command to do it!)."
   ]
  },
  {
   "cell_type": "markdown",
   "metadata": {},
   "source": [
    "#### <font color='#B31B1B'> Absolute vs. Relative Paths </font>\n",
    "\n",
    "When navigating in UNIX, it's important to distinguish between absolute (also known as full paths) and relative paths.\n",
    "\n",
    "**Absolute paths**: They always start with \"/\" (the so-called base directory). For example, to find out the absolute path to the working directory, you can type pwd (from Print Working Directory):"
   ]
  },
  {
   "cell_type": "code",
   "execution_count": 16,
   "metadata": {},
   "outputs": [
    {
     "name": "stdout",
     "output_type": "stream",
     "text": [
      "/Users/connorlawless/Documents/ORIE5270/lectures\n"
     ]
    }
   ],
   "source": [
    "%%bash\n",
    "pwd"
   ]
  },
  {
   "cell_type": "markdown",
   "metadata": {},
   "source": [
    "In fact, \"~\" is a so-called shell expansion for the user's home directory, and the following two commands are equivalent:"
   ]
  },
  {
   "cell_type": "code",
   "execution_count": 18,
   "metadata": {},
   "outputs": [
    {
     "name": "stdout",
     "output_type": "stream",
     "text": [
      "/Users/connorlawless\n",
      "/Users/connorlawless\n"
     ]
    }
   ],
   "source": [
    "%%bash\n",
    "cd ~\n",
    "pwd\n",
    "cd /Users/connorlawless/\n",
    "pwd"
   ]
  },
  {
   "cell_type": "markdown",
   "metadata": {},
   "source": [
    "**Relative paths**: a path that doesn't start with \"/\" is a relative path. More or less, relative paths are formed by prepending the current working directory to them. For example:"
   ]
  },
  {
   "cell_type": "code",
   "execution_count": 19,
   "metadata": {},
   "outputs": [
    {
     "name": "stdout",
     "output_type": "stream",
     "text": [
      "/Users/connorlawless\n",
      "/Users/connorlawless/Documents\n"
     ]
    }
   ],
   "source": [
    "%%bash\n",
    "cd ~\n",
    "pwd\n",
    "cd Documents\n",
    "pwd"
   ]
  },
  {
   "cell_type": "markdown",
   "metadata": {},
   "source": [
    "As you type `cd Documents` in the above, the shell interpreter prepends your working directory before calling the cd command with the full path."
   ]
  },
  {
   "cell_type": "markdown",
   "metadata": {},
   "source": [
    "#### <font color='#B31B1B'> Making & inspecting directories </font>\n",
    "To inspect the contents of your current directory, simply type ls:"
   ]
  },
  {
   "cell_type": "code",
   "execution_count": 5,
   "metadata": {},
   "outputs": [
    {
     "name": "stdout",
     "output_type": "stream",
     "text": [
      "Folder\n",
      "W1D2 - Bash.ipynb\n",
      "file.txt\n",
      "program.sh\n"
     ]
    }
   ],
   "source": [
    "%%bash\n",
    "ls"
   ]
  },
  {
   "cell_type": "markdown",
   "metadata": {},
   "source": [
    "This shows that my working directory contains 3 files and 1 folder: `file.txt`, `program.sh`, this notebook, and `Folder`. In fact, `Folder` is also a type of file (but a special one!)."
   ]
  },
  {
   "cell_type": "markdown",
   "metadata": {},
   "source": [
    "However, unless your terminal environment uses colors or a special font to indicate different types of files, the output of the above ls command does not give you any information about whether or not Folder is a folder or just a terribly-named ordinary file. To get this type of information, you can invoke ls with an extra argument:"
   ]
  },
  {
   "cell_type": "code",
   "execution_count": 4,
   "metadata": {},
   "outputs": [
    {
     "name": "stdout",
     "output_type": "stream",
     "text": [
      "Folder/\n",
      "W1D2 - Bash.ipynb\n",
      "file.txt\n",
      "program.sh*\n"
     ]
    }
   ],
   "source": [
    "%%bash\n",
    "ls -F"
   ]
  },
  {
   "cell_type": "markdown",
   "metadata": {},
   "source": [
    "I read about the -F argument on the ls manual page. Here, an indicator is appended to the file name to indicate its type. For example, an \"/\" is appended to \"Folder\" to indicate that it is an actual directory, and \\* is appended to `program.sh` to indicate it is an executable file (i.e. a program)."
   ]
  }
 ],
 "metadata": {
  "kernelspec": {
   "display_name": "Python 3",
   "language": "python",
   "name": "python3"
  },
  "language_info": {
   "codemirror_mode": {
    "name": "ipython",
    "version": 3
   },
   "file_extension": ".py",
   "mimetype": "text/x-python",
   "name": "python",
   "nbconvert_exporter": "python",
   "pygments_lexer": "ipython3",
   "version": "3.7.10"
  }
 },
 "nbformat": 4,
 "nbformat_minor": 4
}
