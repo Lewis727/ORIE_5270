{
 "cells": [
  {
   "cell_type": "markdown",
   "metadata": {},
   "source": [
    "## <font color='#B31B1B'> Bash Crash Course </font>\n",
    "\n",
    "What is the shell? The shell is a program that exposes an OS's services to a user (or another program). Contrary to popular belief, what we call the shell is not the same as what is called the terminal. However, in Linux the main way to interact with the shell is via the terminal, which provides a command-line interface (meaning: not graphical) to the shell, which is why we will sometimes use the words \"shell\" and \"terminal\" interchangeably.\n",
    "\n",
    "There are serveral different shells available in Linux. Most distributions come with the `bash` shell. Other shells include `zsh`, `fish`, `tcsh`, `csh`."
   ]
  },
  {
   "cell_type": "markdown",
   "metadata": {},
   "source": [
    "### <font color='#B31B1B'> Getting started </font>\n",
    "To get started, fire up your distribution's terminal. Depending on your distribution, it might be called \"Terminal\", \"Console\" or some variant thereof. This will start a command-line interface (CLI) where you will be able to type commands and see their output. You should see something like the following (called the prompt):\n",
    "\n",
    "`[user@computer ~]$`\n",
    "\n",
    "What does this mean? The shell keeps track of which user is currently logged and displays their login name (user). It also displays the name of the computer they are logged in to. The last piece of information is the working directory, which is the current location in your computer's filesystem. Here ~ is a special character that denotes your home directory (assuming one is defined; more on this later). Finally, anything on the left of the $ are commands that you type.\n",
    "\n",
    "For example, my prompt looks like the one below:\n",
    "\n",
    "`connorlawless@dhcp-vl2041-29361 ~ $`\n"
   ]
  },
  {
   "cell_type": "markdown",
   "metadata": {},
   "source": [
    "### <font color='#B31B1B'> Getting Help </font>\n",
    "Shell commands usually provide a manual page and/or can be invoked with the --help that documents their behavior and arguments, return values etc. To access the manual page, type man <command>. For example, the following:"
   ]
  },
  {
   "cell_type": "code",
   "execution_count": null,
   "metadata": {},
   "outputs": [],
   "source": [
    "%%bash\n",
    "man cd"
   ]
  },
  {
   "cell_type": "markdown",
   "metadata": {},
   "source": [
    "Knowing about the existence of and using these manual pages is essential for working in the shell. Most newcomers forget that they even exist, and spend precious time googling for documentation (even though several manual pages also provide usage examples) that is already available.\n",
    "\n",
    "Note: To use the man command, you need to know which command you are looking for help with. If you have a general idea of what you want to do but do not know which command to use for it, you can use the apropos utility, which will search inside the manual pages for a keyword (and also supports regular expressions; more on these later). For example, if you want to find out which command to use to make a directory, you can type the following:"
   ]
  },
  {
   "cell_type": "code",
   "execution_count": null,
   "metadata": {},
   "outputs": [],
   "source": [
    "%%bash\n",
    "apropos \"make directories\""
   ]
  },
  {
   "cell_type": "markdown",
   "metadata": {},
   "source": [
    "Indeed, man mkdir will convince you that mkdir is what you want to use to make directories. Another help utility you might occasionally need is type:"
   ]
  },
  {
   "cell_type": "code",
   "execution_count": null,
   "metadata": {},
   "outputs": [],
   "source": [
    "%%bash\n",
    "type python\n",
    "type cd"
   ]
  },
  {
   "cell_type": "markdown",
   "metadata": {},
   "source": [
    "### <font color='#B31B1B'> Navigation </font>\n",
    "\n",
    "The shell is not very useful without knowing how to move around between different directories. The cd command does exactly that. For example, to change to a directory called \"Documents\", we type:\n"
   ]
  },
  {
   "cell_type": "code",
   "execution_count": null,
   "metadata": {},
   "outputs": [],
   "source": [
    "%%bash\n",
    "cd ~/Documents\n",
    "pwd"
   ]
  },
  {
   "cell_type": "markdown",
   "metadata": {},
   "source": [
    "**From context, can you guess what `pwd` does?**\n",
    "\n",
    "Since you will eventually build a mental map of where your files are starting from your home directory, typing cd on the shell (without any arguments) will return you to your home directory:"
   ]
  },
  {
   "cell_type": "code",
   "execution_count": null,
   "metadata": {},
   "outputs": [],
   "source": [
    "%%bash\n",
    "cd ~\n",
    "pwd"
   ]
  },
  {
   "cell_type": "markdown",
   "metadata": {},
   "source": [
    "**Note**: When executing bash within jupyter notebook, each cell is executed in its own temporary sub-shell, so changing the working directory in one cell won't have it persist to other cells (check out the %cd magic command to do it!)."
   ]
  },
  {
   "cell_type": "markdown",
   "metadata": {},
   "source": [
    "#### <font color='#B31B1B'> Absolute vs. Relative Paths </font>\n",
    "\n",
    "When navigating in UNIX, it's important to distinguish between absolute (also known as full paths) and relative paths.\n",
    "\n",
    "**Absolute paths**: They always start with \"/\" (the so-called base directory). For example, to find out the absolute path to the working directory, you can type pwd (from Print Working Directory):"
   ]
  },
  {
   "cell_type": "code",
   "execution_count": null,
   "metadata": {},
   "outputs": [],
   "source": [
    "%%bash\n",
    "pwd"
   ]
  },
  {
   "cell_type": "markdown",
   "metadata": {},
   "source": [
    "In fact, \"~\" is a so-called shell expansion for the user's home directory, and the following two commands are equivalent:"
   ]
  },
  {
   "cell_type": "code",
   "execution_count": null,
   "metadata": {},
   "outputs": [],
   "source": [
    "%%bash\n",
    "cd ~\n",
    "pwd\n",
    "cd /Users/connorlawless/\n",
    "pwd"
   ]
  },
  {
   "cell_type": "markdown",
   "metadata": {},
   "source": [
    "**Relative paths**: a path that doesn't start with \"/\" is a relative path. More or less, relative paths are formed by prepending the current working directory to them. For example:"
   ]
  },
  {
   "cell_type": "code",
   "execution_count": null,
   "metadata": {},
   "outputs": [],
   "source": [
    "%%bash\n",
    "cd ~\n",
    "pwd\n",
    "cd Documents\n",
    "pwd"
   ]
  },
  {
   "cell_type": "markdown",
   "metadata": {},
   "source": [
    "As you type `cd Documents` in the above, the shell interpreter prepends your working directory before calling the cd command with the full path."
   ]
  },
  {
   "cell_type": "markdown",
   "metadata": {},
   "source": [
    "#### <font color='#B31B1B'> Making & inspecting directories </font>\n",
    "To inspect the contents of your current directory, simply type ls:"
   ]
  },
  {
   "cell_type": "code",
   "execution_count": null,
   "metadata": {},
   "outputs": [],
   "source": [
    "%%bash\n",
    "cd ls_example\n",
    "ls"
   ]
  },
  {
   "cell_type": "markdown",
   "metadata": {},
   "source": [
    "This shows that my working directory contains 3 files and 1 folder: `file.txt`, `program.sh`, this notebook, and `Folder`. In fact, `Folder` is also a type of file (but a special one!)."
   ]
  },
  {
   "cell_type": "markdown",
   "metadata": {},
   "source": [
    "However, unless your terminal environment uses colors or a special font to indicate different types of files, the output of the above ls command does not give you any information about whether or not Folder is a folder or just a terribly-named ordinary file. To get this type of information, you can invoke ls with an extra argument:"
   ]
  },
  {
   "cell_type": "code",
   "execution_count": null,
   "metadata": {},
   "outputs": [],
   "source": [
    "%%bash\n",
    "ls -F ls_example"
   ]
  },
  {
   "cell_type": "markdown",
   "metadata": {},
   "source": [
    "I read about the -F argument on the ls manual page. Here, an indicator is appended to the file name to indicate its type. For example, an \"/\" is appended to \"Folder\" to indicate that it is an actual directory, and \\* is appended to `program.sh` to indicate it is an executable file (i.e. a program). Another option is to use `ls -l`, which prints a lot more information:"
   ]
  },
  {
   "cell_type": "code",
   "execution_count": null,
   "metadata": {},
   "outputs": [],
   "source": [
    "%%bash\n",
    "ls -l ls_example"
   ]
  },
  {
   "cell_type": "markdown",
   "metadata": {},
   "source": [
    "**How could we figure out what all this new information means?**"
   ]
  },
  {
   "cell_type": "markdown",
   "metadata": {},
   "source": [
    "#### <font color='#B31B1B'> File Permissions </font>\n",
    "\n",
    "What about the weird -rw-r--r-- bits at the beginning of the first line? This part is a sequence indicating the file's permissions! You can see that Folder has a d character in its permissions, which indicates it is a directory. Also, note that the x bit means that a file is executable, which shows us that program.sh is executable (even though it seems to be empty).\n",
    "\n",
    "Somewhat (un?)surprisingly, UNIX allows you to change a file's permissions (as long as you are the owner of the file). For example, you might want program.sh to not be executable until you have inspected its contents (again, forget that it is empty for now). For that reason, you can use the `chmod` command. Consider the following two calls:"
   ]
  },
  {
   "cell_type": "code",
   "execution_count": null,
   "metadata": {},
   "outputs": [],
   "source": [
    "%%bash\n",
    "chmod -x ls_example/program.sh\n",
    "chmod +x ls_example/program.sh"
   ]
  },
  {
   "cell_type": "markdown",
   "metadata": {},
   "source": [
    "The first command removes the executable mode bit from `program.sh`, while the second one adds it. Another (advanced) way of using chmod is specifying the permission bits explicitly:"
   ]
  },
  {
   "cell_type": "code",
   "execution_count": null,
   "metadata": {},
   "outputs": [],
   "source": [
    "%%bash\n",
    "chmod ugo=rw ls_example/program.sh\n",
    "ls -l ls_example"
   ]
  },
  {
   "cell_type": "markdown",
   "metadata": {},
   "source": [
    "Here, \"ugo\" stands for \"user, group, other\". The above indicates:\n",
    "\n",
    "- the user that owns the file can read and write (i.e. edit) it\n",
    "- any additional users that are in the group that owns the file can only read it (only makes sense if the group contains more than just the current user)\n",
    "- any other users (i.e. not in the current group) can only read the file\n",
    "\n",
    "To make a directory, you can use the command `mkdir` (from MaKe DIRectory):"
   ]
  },
  {
   "cell_type": "code",
   "execution_count": null,
   "metadata": {},
   "outputs": [],
   "source": [
    "%%bash\n",
    "mkdir output/test "
   ]
  },
  {
   "cell_type": "markdown",
   "metadata": {},
   "source": [
    "**What went wrong?**"
   ]
  },
  {
   "cell_type": "markdown",
   "metadata": {},
   "source": [
    "There is a wealth of shell commands we will encounter in the coming weeks, and it's completely normal to feel overwhelmed at the moment. For now, I encourage you to set up your Linux machine and browse around using the shell to get a feel for it. Think about tasks you ultimately want to accomplish (e.g. maybe a text processing pipeline) and try to find some commands that could help you do it using apropos and read about their usage using man."
   ]
  },
  {
   "cell_type": "markdown",
   "metadata": {},
   "source": [
    "### <font color='#B31B1B'> Writing Scripts </font>\n",
    "\n",
    "Here comes the fun part - our first script! Open a file in your distribution's text editor, name it `example.sh`, and write the following:\n",
    "\n",
    "```\n",
    "#!/bin/bash\n",
    "\n",
    "echo \"Hello World!\"\n",
    "```"
   ]
  },
  {
   "cell_type": "markdown",
   "metadata": {},
   "source": [
    "**Do you know (or can find) a way to create this script using bash/command line?** "
   ]
  },
  {
   "cell_type": "markdown",
   "metadata": {},
   "source": [
    "There are two ways to run this program. The first, and more straightforward one, is to open up a terminal and navigate to the directory containing example.sh:"
   ]
  },
  {
   "cell_type": "code",
   "execution_count": null,
   "metadata": {},
   "outputs": [],
   "source": [
    "%%bash\n",
    "bash output/example.sh"
   ]
  },
  {
   "cell_type": "markdown",
   "metadata": {},
   "source": [
    "The second is a little more convoluted..."
   ]
  },
  {
   "cell_type": "code",
   "execution_count": null,
   "metadata": {},
   "outputs": [],
   "source": [
    "%%bash\n",
    "chmod +x output/example.sh\n",
    "./output/example.sh"
   ]
  },
  {
   "cell_type": "markdown",
   "metadata": {},
   "source": [
    "What is this doing? The first line adds the `-x` flag to the file modes, which makes it executable. The second line instructs the shell to execute `example.sh`. We prepend ./ before the actual filename, because we have to indicate that the file is located in the current working directory.\n",
    "\n",
    "But how does the shell know that this is a bash executable? That's because of the first line in your script:\n",
    "```\n",
    "#!/bin/bash\n",
    "```\n",
    "This is an interpreter directive, which essentially tells us that this file is intended to be run by the executable found under /bin/bash (i.e. the bash shell itself)."
   ]
  },
  {
   "cell_type": "markdown",
   "metadata": {},
   "source": [
    "#### <font color='#B31B1B'> Variables </font>\n",
    "Now that you wrote your first script, let us look into different syntactical constructs you can use. Arguably one of the most important ones is defining and using variables. To define a variable, you use the format `<NAME>=<VALUE>`. For example:\n"
   ]
  },
  {
   "cell_type": "code",
   "execution_count": null,
   "metadata": {},
   "outputs": [],
   "source": [
    "%%bash\n",
    "myvar=10\n",
    "anothervar=hello"
   ]
  },
  {
   "cell_type": "markdown",
   "metadata": {},
   "source": [
    "Shell variable names start with a letter or underscore and may contain any number of following letters, digits, or underscores. By default, bash interprets all variable values as strings, unless you explicitly declare them differently. There are 4 variable types in bash:\n",
    "\n",
    "- string variables (default)\n",
    "- integer variables\n",
    "- constant variables (i.e., read-only after they are declared)\n",
    "- array variables (rarely encountered in practice; not all shells support it.)\n",
    "\n",
    "To access / retrieve a variable's value, you need to add the \"$\" symbol in front of the variable name:"
   ]
  },
  {
   "cell_type": "code",
   "execution_count": null,
   "metadata": {},
   "outputs": [],
   "source": [
    "%%bash\n",
    "myvar=10\n",
    "echo $myvar"
   ]
  },
  {
   "cell_type": "markdown",
   "metadata": {},
   "source": [
    "When assigning a value that contains spaces, use quotes:"
   ]
  },
  {
   "cell_type": "code",
   "execution_count": null,
   "metadata": {},
   "outputs": [],
   "source": [
    "%%bash\n",
    "anothervar=\"hello world\"\n",
    "echo $anothervar"
   ]
  },
  {
   "cell_type": "markdown",
   "metadata": {},
   "source": [
    "Shell variables are mutable, which means you can update their values after you have defined them like we did here. If a variable is not defined, its value is the so-caled NULL value, and accessing it returns nothing:"
   ]
  },
  {
   "cell_type": "code",
   "execution_count": null,
   "metadata": {},
   "outputs": [],
   "source": [
    "%%bash\n",
    "echo $new_var"
   ]
  },
  {
   "cell_type": "markdown",
   "metadata": {},
   "source": [
    "Note: variables you define are not persistent across shell sessions. If you close your terminal after the above commands are issued and type `echo $myvar`, you will get a blank line. Even if you call a bash script from bash that tries to access this variable, it will not find it unless you explicitly export it. Keep that in mind when thinking about what the scripts you write will try to access. In fact, it is always a better idea to make sure that your scripts accept all the required information in terms of command-line arguments, which we examine below."
   ]
  },
  {
   "cell_type": "markdown",
   "metadata": {},
   "source": [
    "#### <font color='#B31B1B'> Special Variables </font>\n",
    "\n",
    "There is a number of \"special\" variables in bash, whose values you may access but not set. These variables typically hold function / script parameters, process IDs, and so on. For example, having `echo $1` inside a script will output the first positional parameter the script was called with. Consider the following script:\n",
    "\n",
    "```\n",
    "#!/bin/bash\n",
    "echo \"The first argument was: $1\"\n",
    "```"
   ]
  },
  {
   "cell_type": "code",
   "execution_count": null,
   "metadata": {},
   "outputs": [],
   "source": [
    "%%bash\n",
    "bash examples/example2.sh \"Hi\"\n",
    "bash examples/example2.sh \"Hi\" 1 \"Bye\""
   ]
  },
  {
   "cell_type": "markdown",
   "metadata": {},
   "source": [
    "You can read more about internal variables in bash <a href='https://tldp.org/LDP/abs/html/internalvariables.html'> here </a>."
   ]
  },
  {
   "cell_type": "markdown",
   "metadata": {},
   "source": [
    "#### <font color='#B31B1B'> Control Flow </font>\n",
    "\n",
    "The term \"control flow\" refers to conditional statements, such as loops, if statements, and so on. Bash supports both of these constructs. An IF statement in bash looks like the following:\n",
    "\n",
    "```\n",
    "# example.sh\n",
    "if <condition_1>\n",
    "then\n",
    "    <statements_1>\n",
    "elif <condition_2>\n",
    "then\n",
    "    <statements_2>\n",
    "else\n",
    "    <more_statements>\n",
    "fi\n",
    "```\n",
    "**Note**: You always need to add the then keyword after an if or an elif. The elif and else are optional!\n",
    "\n",
    "**Note 2**: A common gotcha is when you include the then keyword, but do not put it in a separate line:\n",
    "\n",
    "```\n",
    "if <condition> then\n",
    "    <statements>\n",
    "fi\n",
    "```\n",
    "The correct way to write this is include a semicolon, as you would when writing two commands one after each other:\n",
    "```\n",
    "if <condition>; then\n",
    "    <statements>\n",
    "fi\n",
    "```\n",
    "\n",
    "We examined the skeleton of `if` statements above, so a natural question to ask is: what kind of conditions do we usually have? We already saw that bash treats the content of variables essentially as strings, so the answer is not obvious.\n",
    "\n",
    "Indeed, the answer seems confusing at first: the `<condition>` blocks above are a sequence of statements. If the last statement executed exits successfully, the condition is met and we proceed to the \"then\" block. If the last statement executed does not exit successfully, we proceed analogously. Here is an example:"
   ]
  },
  {
   "cell_type": "code",
   "execution_count": null,
   "metadata": {},
   "outputs": [],
   "source": [
    "%%bash\n",
    "if echo \"hi\"; then echo \"hello\"; fi"
   ]
  },
  {
   "cell_type": "markdown",
   "metadata": {},
   "source": [
    "What just happened? The command `echo \"hi\"` was executed, and it exited successfully (printing \"hi\" along the way). Therefore the condition was met, and we proceeded to the \"then\" block of our if statement.\n",
    "\n",
    "Note: All shell commands have an exit status code that they emit after their execution. By convention, successful execution returns a status code of `0`. All status codes `>= 1` are considered failures, and their meaning can vary depending on the program. Manual pages document the precise meaning of each status code for the program at hand.\n",
    "\n",
    "Of course, the example above was contrived. We usually want to test more interesting conditions. For that reason, we commonly use the test command, that evaluates a unary or binary expression and outputs exit status `0` if the expression evaluates successfully.\n",
    "\n",
    "Here are some examples involving the use of test:"
   ]
  },
  {
   "cell_type": "code",
   "execution_count": null,
   "metadata": {},
   "outputs": [],
   "source": [
    "%%bash\n",
    "# test if file.txt exists\n",
    "test -e examples/file.txt\n",
    "\n",
    "# test if file.txt is a directory\n",
    "test -d examples/file.txt\n",
    "\n",
    "# test if file.txt is readable\n",
    "test -r examples/file.txt\n",
    "\n",
    "# test if file.txt is a regular file (i.e. not a directory or other special file)\n",
    "test -f examples/file.txt\n",
    "\n",
    "# test if variable var1 is greater than variable var2, when interpreted as integers\n",
    "test $var1 -gt $var2\n",
    "\n",
    "# same, but test if var1 is greater than or equal:\n",
    "test $var1 -ge $var2\n",
    "\n",
    "# test if $var1 is equal to $var2 (interpreted as strings):\n",
    "test $var1 = $var2"
   ]
  },
  {
   "cell_type": "markdown",
   "metadata": {},
   "source": [
    "You can find out more about possible conditions that you can check using test by checking the manual page: `man test`.\n",
    "\n",
    "There is also a variant form of test, which works identically to test command:\n",
    "```\n",
    "# the two below are equivalent:\n",
    "test <expression>\n",
    "[ <expression> ]\n",
    "```"
   ]
  },
  {
   "cell_type": "markdown",
   "metadata": {},
   "source": [
    "#### <font color='#B31B1B'> Logical Operators </font>\n",
    "\n",
    "You can combine more than one expressions in your `test` constructs, using the logical `AND`, `OR`, and `NOT` operators. For example:\n",
    "\n"
   ]
  },
  {
   "cell_type": "code",
   "execution_count": null,
   "metadata": {},
   "outputs": [],
   "source": [
    "%%bash\n",
    "[ -e ls_example/file.txt -a -x ls_example/program.sh ]"
   ]
  },
  {
   "cell_type": "markdown",
   "metadata": {},
   "source": [
    "**Hmm why are we getting back a non-zero exit code? How can we fix it?**"
   ]
  },
  {
   "cell_type": "markdown",
   "metadata": {},
   "source": [
    "The above tests if `file.txt` exists and `program.sh` is executable (we use `-a` for the AND condition). However, it is recommended (for the sake of writing portable code) to use shell-level tests, using the `!`, `&&`, `||` operators:"
   ]
  },
  {
   "cell_type": "code",
   "execution_count": null,
   "metadata": {},
   "outputs": [],
   "source": [
    "%%bash\n",
    "[ -e ls_example/file.txt ] && [ -e ls_example/program.sh  ]"
   ]
  },
  {
   "cell_type": "markdown",
   "metadata": {},
   "source": [
    "Shell-level tests also allow you to chain expressions, like below:\n",
    "\n",
    "```\n",
    "[ -d dir_name ] && cd dir_name\n",
    "```"
   ]
  },
  {
   "cell_type": "markdown",
   "metadata": {},
   "source": [
    "The above does the following: it first runs `test -d dir_name`. If it succeeds (dir_name indeed pointed to a directory), it runs the second command which changes the working directory to dir_name. Here is another demonstration:\n",
    "\n",
    "```\n",
    "( [ -d dir_name ] && cd dir_name ) || echo \"dir_name is not a directory\"\n",
    "```\n",
    "Here, we first check if dir_name points to a directory and make it our working directory if so; otherwise, we evaluate the other part of the OR (||) construct which outputs \"dir_name is not a directory\"."
   ]
  },
  {
   "cell_type": "markdown",
   "metadata": {},
   "source": [
    "#### <font color='#B31B1B'> Looping </font>\n",
    "There are three looping constructs: `for`, `while`, and `until`.\n",
    "\n",
    "The `for` loop iterates over a list of objects and executes the loop body for each object. For example:\n",
    "\n",
    "```\n",
    "for i in *.out\n",
    "do\n",
    "    cat $i\n",
    "done\n",
    "```\n",
    "This loops over all files that end with `.out` in the current directory and displays their content. The `in ...` part is optional; if you omit it, the shell will loop over all the command line arguments, if any:\n",
    "\n",
    "```\n",
    "for i\n",
    "do\n",
    "    <process arguments here>\n",
    "done\n",
    "```\n",
    "Looping over ranges of integers is easy using the syntax below:\n",
    "\n",
    "```\n",
    "for i in {1..10}\n",
    "do\n",
    "    echo $i\n",
    "done\n",
    "```\n",
    "Equivalently, you can use the `seq` command, which also allows you to specify increments. For example; the following will output `1 3 5 7 9` (in separate lines)\n"
   ]
  },
  {
   "cell_type": "code",
   "execution_count": null,
   "metadata": {},
   "outputs": [],
   "source": [
    "%%bash\n",
    "for i in $(seq 1 2 10)   # pattern: seq <start> <increment> <stop>\n",
    "do\n",
    "    echo $i\n",
    "done"
   ]
  },
  {
   "cell_type": "markdown",
   "metadata": {},
   "source": [
    "Note: here, we wrap the `seq 1 2 10` command using `$(...)` because we want to capture its output and loop over it. Here is what happens if we don't use this syntax:"
   ]
  },
  {
   "cell_type": "code",
   "execution_count": null,
   "metadata": {},
   "outputs": [],
   "source": [
    "%%bash\n",
    "for i in seq 1 2 10\n",
    "do\n",
    "    echo $i\n",
    "done"
   ]
  },
  {
   "cell_type": "markdown",
   "metadata": {},
   "source": [
    "### <font color='#B31B1B'> I/O redirection </font>\n",
    "\n",
    "Whenever you execute a command / script in Linux, three files are always open. These files are mapped to the standard input, standard output, and standard error streams (`STDIN`, `STDOUT`, `STDERR`). By default, `STDIN` is your keyboard and `STDOUT` is the terminal from which you are executing the command. For `STDERR`, it depends: shell commands typically appear on the terminal, but some programs direct the error log to an appropriate file.\n",
    "\n",
    "Here are 3 examples of output redirection:"
   ]
  },
  {
   "cell_type": "code",
   "execution_count": null,
   "metadata": {},
   "outputs": [],
   "source": [
    "%%bash\n",
    "touch output/file.txt\n",
    "echo \"foo\" > output/file.txt"
   ]
  },
  {
   "cell_type": "code",
   "execution_count": null,
   "metadata": {},
   "outputs": [],
   "source": [
    "%%bash\n",
    "echo \"bar\" >> output/file.txt"
   ]
  },
  {
   "cell_type": "code",
   "execution_count": null,
   "metadata": {},
   "outputs": [],
   "source": [
    "%%bash\n",
    ":> output/file.txt"
   ]
  },
  {
   "cell_type": "markdown",
   "metadata": {},
   "source": [
    "The first command outputs \"foo\", but redirects the standard output to `file.txt` instead of the terminal using the `>` operator (which is why you won't see \"foo\" printed when you execute it). However, if the file was nonempty, its previous content is lost. This is not the case with the second command: any output is appended to the file when using `>>`. Finally, the last command uses the `:` shell builtin, which is a null operator, and redirects its output to `file.txt`. Since : produces no output, that effectively resets the file contents.\n",
    "\n",
    "Input redirection is done with the help of the `<` operator. Consider the read command, which reads standard input into variables (using whitespace to make tokens of the input). For example:"
   ]
  },
  {
   "cell_type": "code",
   "execution_count": null,
   "metadata": {},
   "outputs": [],
   "source": [
    "%%bash\n",
    "echo \"foo bar\" > file.txt #write file.txt\n",
    "\n",
    "\n",
    " file.txt #Print whole file\n",
    "\n",
    "read var_1 var_2 < file.txt\n",
    "echo $var_1\n",
    "echo $var_2"
   ]
  },
  {
   "cell_type": "markdown",
   "metadata": {},
   "source": [
    "Finally, it is also possible to redirect one of the three streams to the other. The syntax is `i>&j`, where `i` and `j` are file descriptors. By default, `0` is `STDIN`, `1` is `STDOUT`, and `2` is `STDERR`. Here is an example, where we run the `ls` command, redirect its output to `output.log`, and redirect the standard error to the standard output (which has been set to `output.log`):"
   ]
  },
  {
   "cell_type": "code",
   "execution_count": null,
   "metadata": {},
   "outputs": [],
   "source": [
    "%%bash\n",
    "ls -l > output/output.log 2>&1"
   ]
  },
  {
   "cell_type": "markdown",
   "metadata": {},
   "source": [
    "In fact, you can use these file descriptors more generally. Some examples can be found <a href='https://tldp.org/LDP/abs/html/io-redirection.html'>here</a>.\n",
    "\n",
    "One of the advantages of the UNIX shell is composability: creating a pipeline of simple commands to accomplish complex tasks. This is why the last I/O redirection operator we will look at is the **pipe**, `|`. This operator \"chains\" input and output streams, connecting the `STDOUT` of the previous program to the `STDIN` of the next.\n",
    "\n",
    "Here is a simple example, that uses the grep command introduced below. By default, `grep <pattern> <input>` searches for lines containing `<pattern>` in its input, which can be either `STDIN` or a list of files:\n"
   ]
  },
  {
   "cell_type": "code",
   "execution_count": null,
   "metadata": {},
   "outputs": [],
   "source": [
    "%%bash\n",
    "who | grep \"connor\""
   ]
  },
  {
   "cell_type": "markdown",
   "metadata": {},
   "source": [
    "Here, the output of `who` (a list of users currently logged into the system) becomes the standard input for `grep`, which searches for the pattern connor.\n",
    "\n",
    "You can chain more than one pipes. For example, here we count the number of files in the current directory that contain the word \"example\" using the `wc` utility; `wc -l` counts the number of lines in the standard input.\n",
    "\n",
    "\n"
   ]
  },
  {
   "cell_type": "code",
   "execution_count": null,
   "metadata": {},
   "outputs": [],
   "source": [
    "%%bash\n",
    "ls examples | grep \"example\" | wc -l"
   ]
  },
  {
   "cell_type": "markdown",
   "metadata": {},
   "source": [
    "Here is a similar example: suppose you have a list of contacts, contacts.txt, with lines in the format `<FIRSTNAME> <SURNAME> <PHONENUMBER>`. You want to find all the lines that contain the name \"Lawless\", sort them in increasing order according to first name, strip the phone numbers and put them in a file called `lawlesses.txt`:"
   ]
  },
  {
   "cell_type": "code",
   "execution_count": null,
   "metadata": {},
   "outputs": [],
   "source": [
    "%%bash\n",
    "grep \"LAWLESS\" examples/contacts.txt | sort -k1 | awk '{print $1, $2}' > output/lawlesses.txt"
   ]
  },
  {
   "cell_type": "markdown",
   "metadata": {},
   "source": [
    "Here, `awk '{print $1, $2}'` prints the first and second columns for every line in its standard input, which corresponds to the first and last names of all the Lawlesses. Similarly, you can collect all their phone numbers in a separate file:"
   ]
  },
  {
   "cell_type": "code",
   "execution_count": null,
   "metadata": {},
   "outputs": [],
   "source": [
    "%%bash\n",
    "grep \"LAWLESS\" examples/contacts.txt | awk '{print $3}' > output/lawlesses_numbers.txt"
   ]
  },
  {
   "cell_type": "markdown",
   "metadata": {},
   "source": [
    "Many nontrivial uses of piping arise in text processing. For that reason, next class we'll start on regular expressions!"
   ]
  }
 ],
 "metadata": {
  "kernelspec": {
   "display_name": "base",
   "language": "python",
   "name": "python3"
  },
  "language_info": {
   "codemirror_mode": {
    "name": "ipython",
    "version": 3
   },
   "file_extension": ".py",
   "mimetype": "text/x-python",
   "name": "python",
   "nbconvert_exporter": "python",
   "pygments_lexer": "ipython3",
   "version": "3.9.12 (main, Apr  4 2022, 05:22:27) [MSC v.1916 64 bit (AMD64)]"
  },
  "vscode": {
   "interpreter": {
    "hash": "88279d2366fe020547cde40dd65aa0e3aa662a6ec1f3ca12d88834876c85e1a6"
   }
  }
 },
 "nbformat": 4,
 "nbformat_minor": 4
}
